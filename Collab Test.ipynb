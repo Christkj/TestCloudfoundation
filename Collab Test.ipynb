{
  "cells": [
    {
      "cell_type": "markdown",
      "metadata": {
        "id": "view-in-github",
        "colab_type": "text"
      },
      "source": [
        "<a href=\"https://colab.research.google.com/github/Christkj/TestCloudfoundation/blob/main/Collab%20Test.ipynb\" target=\"_parent\"><img src=\"https://colab.research.google.com/assets/colab-badge.svg\" alt=\"Open In Colab\"/></a>"
      ]
    },
    {
      "cell_type": "code",
      "execution_count": null,
      "metadata": {
        "id": "_GBK6f4YisPs",
        "outputId": "75ea55ad-954a-408e-f2ae-264fab6f90a3"
      },
      "outputs": [
        {
          "name": "stdout",
          "output_type": "stream",
          "text": [
            "Hello World\n"
          ]
        }
      ],
      "source": [
        "print(\"Hello World\")"
      ]
    },
    {
      "cell_type": "markdown",
      "metadata": {
        "id": "5Dgerx6RisPu"
      },
      "source": [
        "## This is a Statement"
      ]
    },
    {
      "cell_type": "markdown",
      "metadata": {
        "id": "LnIhB50OisPv"
      },
      "source": [
        "# This is a larger statement!\n",
        "### This is a smaller heading"
      ]
    },
    {
      "cell_type": "markdown",
      "metadata": {
        "id": "FaD2ZWf4isPv"
      },
      "source": [
        "**This is Important**\n",
        "*This is a note*\n",
        "~~Opps~~\n",
        "**So this is important, but this is _Emphasised_**\n",
        "<Sub>\n",
        "    print(\"Hello World\")\n",
        "    </sub>\n",
        "    \n",
        " <sup>\n",
        "    Superscript!\n",
        "    </sup>"
      ]
    },
    {
      "cell_type": "markdown",
      "metadata": {
        "id": "74I2sK4misPw"
      },
      "source": [
        ">This is some very special quote.\n",
        "This is not"
      ]
    },
    {
      "cell_type": "markdown",
      "metadata": {
        "id": "_mjTo3rkisPw"
      },
      "source": [
        "Google Colab style!\n"
      ]
    },
    {
      "cell_type": "code",
      "execution_count": null,
      "metadata": {
        "id": "dKEFr2V4isPx"
      },
      "outputs": [],
      "source": []
    },
    {
      "cell_type": "markdown",
      "source": [],
      "metadata": {
        "id": "1AOauPi1ivSQ"
      }
    }
  ],
  "metadata": {
    "kernelspec": {
      "display_name": "Python 3",
      "language": "python",
      "name": "python3"
    },
    "language_info": {
      "codemirror_mode": {
        "name": "ipython",
        "version": 3
      },
      "file_extension": ".py",
      "mimetype": "text/x-python",
      "name": "python",
      "nbconvert_exporter": "python",
      "pygments_lexer": "ipython3",
      "version": "3.7.6"
    },
    "colab": {
      "provenance": [],
      "include_colab_link": true
    }
  },
  "nbformat": 4,
  "nbformat_minor": 0
}